{
 "cells": [
  {
   "cell_type": "markdown",
   "id": "2f96b227-e5d5-4820-bddd-bd172e0cda80",
   "metadata": {},
   "source": [
    "# Session7"
   ]
  },
  {
   "cell_type": "markdown",
   "id": "8390339e-bdd5-4fa6-9bed-e84abb68d34f",
   "metadata": {},
   "source": [
    "## IF and Else"
   ]
  },
  {
   "cell_type": "code",
   "execution_count": 5,
   "id": "8e5d93ef-3649-402a-9ebb-36894d9d88f4",
   "metadata": {},
   "outputs": [
    {
     "name": "stdout",
     "output_type": "stream",
     "text": [
      "salam\n"
     ]
    }
   ],
   "source": [
    "\n",
    "if True:\n",
    "    print(\"salam\")"
   ]
  },
  {
   "cell_type": "code",
   "execution_count": 7,
   "id": "c2b3e32e-27b3-48d7-926b-c56c3ec2fabd",
   "metadata": {},
   "outputs": [],
   "source": [
    "if False:\n",
    "    print(\"salam\")\n"
   ]
  },
  {
   "cell_type": "code",
   "execution_count": 11,
   "id": "698079f8-e4e2-4616-b331-e348c8a18074",
   "metadata": {},
   "outputs": [],
   "source": [
    "if 0:\n",
    "    print(\"salam\")"
   ]
  },
  {
   "cell_type": "code",
   "execution_count": 13,
   "id": "887e03cd-1f14-4033-a9ef-81ca027c7623",
   "metadata": {},
   "outputs": [
    {
     "name": "stdout",
     "output_type": "stream",
     "text": [
      "salam\n"
     ]
    }
   ],
   "source": [
    "if 3:\n",
    "    print(\"salam\")"
   ]
  },
  {
   "cell_type": "code",
   "execution_count": 42,
   "id": "73facc8d-2a50-49df-abbc-cb72fa103e8f",
   "metadata": {},
   "outputs": [],
   "source": [
    "if \"\":\n",
    "    print(\"salam\")\n",
    "    print(\"hello\")"
   ]
  },
  {
   "cell_type": "code",
   "execution_count": 29,
   "id": "a451f4f2-436f-4d70-8fac-0e95c2b40c33",
   "metadata": {},
   "outputs": [
    {
     "name": "stdout",
     "output_type": "stream",
     "text": [
      "salam\n"
     ]
    }
   ],
   "source": [
    "if \"Amir\":\n",
    "    print(\"salam\")"
   ]
  },
  {
   "cell_type": "code",
   "execution_count": 86,
   "id": "5a00e18e-0d5e-46de-b87e-a3c84240b457",
   "metadata": {},
   "outputs": [
    {
     "name": "stdout",
     "output_type": "stream",
     "text": [
      "Your name is too short\n"
     ]
    }
   ],
   "source": [
    "myName = \"Sina\"\n",
    "if len(myName) >= 5:\n",
    "    print (\"Your name is too long\")\n",
    "else:\n",
    "    print(\"Your name is too short\")"
   ]
  },
  {
   "cell_type": "code",
   "execution_count": 122,
   "id": "63838e2a-c91a-43ce-9bb7-b61c660a2955",
   "metadata": {},
   "outputs": [
    {
     "name": "stdout",
     "output_type": "stream",
     "text": [
      "Your full name is too long\n"
     ]
    }
   ],
   "source": [
    "myFullName = \"Sina Sherkat\"\n",
    "if len(myFullName) >= 5:\n",
    "    print (\"Your full name is too long\")\n",
    "else:\n",
    "    print (\"Your full name is too short\")"
   ]
  },
  {
   "cell_type": "code",
   "execution_count": 156,
   "id": "1ffea1c4-df89-4fe3-9040-c4606693f13b",
   "metadata": {},
   "outputs": [],
   "source": [
    "inputName= \"amirali\""
   ]
  },
  {
   "cell_type": "code",
   "execution_count": 158,
   "id": "1141165d-e593-4e61-957e-26c89cafcec8",
   "metadata": {},
   "outputs": [
    {
     "name": "stdout",
     "output_type": "stream",
     "text": [
      "Your name is too long\n"
     ]
    }
   ],
   "source": [
    "if len(inputName)>5:\n",
    "    print(\"Your name is too long\")\n",
    "elif len(inputName)>3:\n",
    "    print(\"Your name is acceptible\")\n",
    "else:\n",
    "    print(\"Your name is too short\")"
   ]
  },
  {
   "cell_type": "code",
   "execution_count": 256,
   "id": "70130039-c199-4026-9d24-c0002326bd05",
   "metadata": {},
   "outputs": [],
   "source": [
    "inputAge = 22"
   ]
  },
  {
   "cell_type": "code",
   "execution_count": 258,
   "id": "e779f5f0-1ca2-4922-89f7-e6b9ecbb5707",
   "metadata": {},
   "outputs": [
    {
     "name": "stdout",
     "output_type": "stream",
     "text": [
      "your number is above 20 and its even\n"
     ]
    }
   ],
   "source": [
    "if inputAge > 20:\n",
    "    if inputAge % 2 == 0:\n",
    "        print(\"your number is above 20 and its even\")\n",
    "    elif inputAge % 2 == 1:\n",
    "        print(\"your number is above 20 and its odd\")\n",
    "else:\n",
    "    if inputAge % 2==0:\n",
    "        print (\"your number is lower than 20 and is even\")\n",
    "    elif inputAge % 2==1:\n",
    "        print(\"your number is lower than 20 and is odd\")"
   ]
  },
  {
   "cell_type": "markdown",
   "id": "a3d6f1dd-625c-4af8-bba3-f72683bc17af",
   "metadata": {},
   "source": [
    "## WhileLoop"
   ]
  },
  {
   "cell_type": "code",
   "execution_count": 274,
   "id": "5d846730-8edc-4599-8998-80911c6986c2",
   "metadata": {},
   "outputs": [
    {
     "name": "stdout",
     "output_type": "stream",
     "text": [
      "3\n",
      "2\n",
      "1\n"
     ]
    }
   ],
   "source": [
    "tempInt = 3\n",
    "while tempInt > 0:\n",
    "    print(tempInt)\n",
    "    tempInt -= 1"
   ]
  },
  {
   "cell_type": "markdown",
   "id": "3390f6bb-4663-4fc7-ad0a-90e4f1d0219b",
   "metadata": {},
   "source": [
    "## Q1. Fibunacci"
   ]
  },
  {
   "cell_type": "code",
   "execution_count": 16,
   "id": "04701261-a65d-4222-8538-4e1eb179ce54",
   "metadata": {},
   "outputs": [
    {
     "name": "stdout",
     "output_type": "stream",
     "text": [
      "0\n",
      "1\n",
      "1\n",
      "2\n",
      "3\n",
      "5\n",
      "8\n",
      "13\n",
      "21\n",
      "34\n",
      "55\n",
      "89\n"
     ]
    }
   ],
   "source": [
    "x=0\n",
    "y=1\n",
    "z=0\n",
    "while (z<100):\n",
    "    print (z)\n",
    "    x = y\n",
    "    y = z\n",
    "    z = x + y"
   ]
  },
  {
   "cell_type": "markdown",
   "id": "21f4544f-f583-45ee-ad9c-566bcd8952cf",
   "metadata": {},
   "source": [
    "# Session 8"
   ]
  },
  {
   "cell_type": "code",
   "execution_count": 114,
   "id": "979902ba-7b41-4fb0-b731-22056624cca3",
   "metadata": {},
   "outputs": [
    {
     "name": "stdout",
     "output_type": "stream",
     "text": [
      "6\n",
      "5\n",
      "4\n",
      "3\n"
     ]
    }
   ],
   "source": [
    "tempInt= 6\n",
    "while tempInt > 0:\n",
    "    print (tempInt)\n",
    "    tempInt -=1\n",
    "    if tempInt < 3:\n",
    "        break"
   ]
  },
  {
   "cell_type": "markdown",
   "id": "4594071b-774e-46eb-a9d1-bbd1742ee9f9",
   "metadata": {},
   "source": [
    "## Q.Check p is prime or not"
   ]
  },
  {
   "cell_type": "code",
   "execution_count": 139,
   "id": "dea4adff-489f-41b2-ac16-7ccbe8e5c43e",
   "metadata": {},
   "outputs": [
    {
     "name": "stdout",
     "output_type": "stream",
     "text": [
      "Is Prime\n"
     ]
    }
   ],
   "source": [
    "p = 2\n",
    "tempP = 2\n",
    "mark = True\n",
    "while tempP < p:\n",
    "    if p % tempP ==0:\n",
    "        mark = False\n",
    "        break\n",
    "    tempP += 1\n",
    "if mark:\n",
    "    print(\"Is Prime\")\n",
    "else:\n",
    "    print(\"Is not Prime\")"
   ]
  },
  {
   "cell_type": "markdown",
   "id": "e2aa2b27-828b-46f5-9564-f7837d39122e",
   "metadata": {},
   "source": [
    "## Q.n-th prime number"
   ]
  },
  {
   "cell_type": "code",
   "execution_count": null,
   "id": "48d42df1-ea0e-44ed-ad08-79efd6fa4725",
   "metadata": {},
   "outputs": [],
   "source": [
    "n = 5\n",
    "while\n"
   ]
  },
  {
   "cell_type": "markdown",
   "id": "dbfa07eb-28d1-4e00-bf8a-32f56d632bfd",
   "metadata": {},
   "source": [
    "# Session 9"
   ]
  },
  {
   "cell_type": "markdown",
   "id": "f551df5a-22bd-417d-92e3-71fa45c18353",
   "metadata": {},
   "source": [
    "## For loop"
   ]
  },
  {
   "cell_type": "code",
   "execution_count": 13,
   "id": "82008e72-cd27-47fd-a84d-269d4c3e03f0",
   "metadata": {},
   "outputs": [
    {
     "name": "stdout",
     "output_type": "stream",
     "text": [
      "10\n"
     ]
    }
   ],
   "source": [
    "\n",
    "sum = 0\n",
    "for i in range(5):\n",
    "    sum += i\n",
    "print (sum)"
   ]
  },
  {
   "cell_type": "code",
   "execution_count": 23,
   "id": "6aa3a539-4549-427b-8077-b659711dc277",
   "metadata": {},
   "outputs": [
    {
     "name": "stdout",
     "output_type": "stream",
     "text": [
      "i=4 ,sum=10\n"
     ]
    }
   ],
   "source": [
    "sum = 0\n",
    "for i in range(5):\n",
    "    sum += i\n",
    "print (\"i=\"+str(i)+\" ,sum=\"+str(sum))"
   ]
  },
  {
   "cell_type": "code",
   "execution_count": 43,
   "id": "b9b3399a-8941-475a-9a9e-0b9bc870cd95",
   "metadata": {},
   "outputs": [
    {
     "name": "stdout",
     "output_type": "stream",
     "text": [
      "24\n"
     ]
    }
   ],
   "source": [
    "n= 4\n",
    "fact = 1\n",
    "for i in range(n):\n",
    "    fact = fact *(i+1)\n",
    "print (fact)"
   ]
  },
  {
   "cell_type": "code",
   "execution_count": 65,
   "id": "96a3c93d-c202-49b4-8110-8d8b1afd46b1",
   "metadata": {},
   "outputs": [
    {
     "name": "stdout",
     "output_type": "stream",
     "text": [
      "1\n",
      "2\n",
      "Hop!\n",
      "4\n",
      "5\n",
      "Hop!\n",
      "7\n",
      "8\n",
      "Hop!\n",
      "10\n",
      "11\n",
      "Hop!\n",
      "13\n",
      "14\n",
      "Hop!\n",
      "16\n",
      "17\n",
      "Hop!\n",
      "19\n",
      "20\n",
      "Hop!\n",
      "22\n",
      "23\n",
      "Hop!\n"
     ]
    }
   ],
   "source": [
    "for i in range (1,25):\n",
    "    if i %3 ==0:\n",
    "        print (\"Hop!\")\n",
    "    else:\n",
    "        print(i)\n",
    "    "
   ]
  },
  {
   "cell_type": "markdown",
   "id": "b79a46e0-ec8d-4718-b956-e41dc5474088",
   "metadata": {},
   "source": [
    "# Session 10"
   ]
  },
  {
   "cell_type": "markdown",
   "id": "f72a0378-938c-4538-b246-6ad9985c9c53",
   "metadata": {},
   "source": [
    "## List"
   ]
  },
  {
   "cell_type": "code",
   "execution_count": 3,
   "id": "b496dea8-54ce-4a27-a931-f86054057ee9",
   "metadata": {},
   "outputs": [
    {
     "data": {
      "text/plain": [
       "3"
      ]
     },
     "execution_count": 3,
     "metadata": {},
     "output_type": "execute_result"
    }
   ],
   "source": [
    "tempList = [35, 'Amir', 3.14]\n",
    "len(tempList)"
   ]
  },
  {
   "cell_type": "code",
   "execution_count": 17,
   "id": "73f3f199-3733-4a85-a6b2-45434f0555e5",
   "metadata": {},
   "outputs": [
    {
     "data": {
      "text/plain": [
       "35"
      ]
     },
     "execution_count": 17,
     "metadata": {},
     "output_type": "execute_result"
    }
   ],
   "source": [
    "tempList[0]"
   ]
  },
  {
   "cell_type": "code",
   "execution_count": 21,
   "id": "e456dfbc-29cf-47ad-8f00-d18f029aaf0a",
   "metadata": {},
   "outputs": [
    {
     "data": {
      "text/plain": [
       "4"
      ]
     },
     "execution_count": 21,
     "metadata": {},
     "output_type": "execute_result"
    }
   ],
   "source": [
    "len(tempList[1])"
   ]
  },
  {
   "cell_type": "code",
   "execution_count": 31,
   "id": "a642b8a3-b7b5-40f5-8f48-6e0863a21de7",
   "metadata": {},
   "outputs": [
    {
     "data": {
      "text/plain": [
       "'m'"
      ]
     },
     "execution_count": 31,
     "metadata": {},
     "output_type": "execute_result"
    }
   ],
   "source": [
    "tempList[1][1]"
   ]
  },
  {
   "cell_type": "code",
   "execution_count": 33,
   "id": "74184e08-5450-4b7a-9b87-4526e3f48c4d",
   "metadata": {},
   "outputs": [],
   "source": [
    "pi = 3.14"
   ]
  },
  {
   "cell_type": "code",
   "execution_count": 35,
   "id": "a3ed810d-07ec-4d50-b075-1820bb35c003",
   "metadata": {},
   "outputs": [
    {
     "data": {
      "text/plain": [
       "3"
      ]
     },
     "execution_count": 35,
     "metadata": {},
     "output_type": "execute_result"
    }
   ],
   "source": [
    "int(pi)"
   ]
  },
  {
   "cell_type": "code",
   "execution_count": 37,
   "id": "9ed29678-a824-44ce-8153-ca165496a671",
   "metadata": {},
   "outputs": [
    {
     "data": {
      "text/plain": [
       "\"[35, 'Amir', 3.14]\""
      ]
     },
     "execution_count": 37,
     "metadata": {},
     "output_type": "execute_result"
    }
   ],
   "source": [
    "str(tempList)"
   ]
  },
  {
   "cell_type": "code",
   "execution_count": 47,
   "id": "8b24436a-521f-4408-b145-ae8af5a58d6b",
   "metadata": {},
   "outputs": [
    {
     "data": {
      "text/plain": [
       "[35, 'Amir']"
      ]
     },
     "execution_count": 47,
     "metadata": {},
     "output_type": "execute_result"
    }
   ],
   "source": [
    "tempList[:-1]"
   ]
  },
  {
   "cell_type": "code",
   "execution_count": 49,
   "id": "80811085-636c-47d5-a002-c722114f9c1b",
   "metadata": {},
   "outputs": [
    {
     "data": {
      "text/plain": [
       "['Amir', 3.14]"
      ]
     },
     "execution_count": 49,
     "metadata": {},
     "output_type": "execute_result"
    }
   ],
   "source": [
    "tempList[1:]"
   ]
  },
  {
   "cell_type": "code",
   "execution_count": 51,
   "id": "157658dd-03e3-4b15-9fa2-9e7e67ee0ac3",
   "metadata": {},
   "outputs": [
    {
     "data": {
      "text/plain": [
       "3.14"
      ]
     },
     "execution_count": 51,
     "metadata": {},
     "output_type": "execute_result"
    }
   ],
   "source": [
    "tempList[2]"
   ]
  },
  {
   "cell_type": "code",
   "execution_count": 53,
   "id": "10fbe03c-2f4a-40d4-aa92-04fc714d2125",
   "metadata": {},
   "outputs": [
    {
     "data": {
      "text/plain": [
       "'3.14'"
      ]
     },
     "execution_count": 53,
     "metadata": {},
     "output_type": "execute_result"
    }
   ],
   "source": [
    "str(tempList[2])"
   ]
  },
  {
   "cell_type": "code",
   "execution_count": 55,
   "id": "d161f17a-9263-47fe-bcbc-646d5ee55d97",
   "metadata": {},
   "outputs": [],
   "source": [
    "tempList= tempList+[2, 'Programming', 2.71828]"
   ]
  },
  {
   "cell_type": "code",
   "execution_count": 57,
   "id": "dc7c8c1b-d862-40f6-97ff-8a42be7f788a",
   "metadata": {},
   "outputs": [
    {
     "data": {
      "text/plain": [
       "[35, 'Amir', 3.14, 2, 'Programming', 2.71828]"
      ]
     },
     "execution_count": 57,
     "metadata": {},
     "output_type": "execute_result"
    }
   ],
   "source": [
    "tempList"
   ]
  },
  {
   "cell_type": "code",
   "execution_count": 63,
   "id": "1049fef2-610d-400b-bc76-ddfd898f02a3",
   "metadata": {},
   "outputs": [],
   "source": [
    "tempList += [\"Ali\"]"
   ]
  },
  {
   "cell_type": "code",
   "execution_count": 65,
   "id": "f7eee48b-ff2b-4be9-8b6d-4057121910bf",
   "metadata": {},
   "outputs": [
    {
     "data": {
      "text/plain": [
       "[23, 543, 'hasan', 'Ali']"
      ]
     },
     "execution_count": 65,
     "metadata": {},
     "output_type": "execute_result"
    }
   ],
   "source": [
    "tempList"
   ]
  },
  {
   "cell_type": "code",
   "execution_count": 67,
   "id": "cc6a4ea3-053a-443e-ae2c-c6d4ef5af1aa",
   "metadata": {},
   "outputs": [
    {
     "data": {
      "text/plain": [
       "[23, 543, 'hasan', 'Ali', 'Tehran']"
      ]
     },
     "execution_count": 67,
     "metadata": {},
     "output_type": "execute_result"
    }
   ],
   "source": [
    "tempList.append('Tehran')\n",
    "tempList"
   ]
  },
  {
   "cell_type": "code",
   "execution_count": 69,
   "id": "ff93fdd4-7acb-4f1f-86d4-5adc8ee6112e",
   "metadata": {},
   "outputs": [
    {
     "data": {
      "text/plain": [
       "['__add__',\n",
       " '__class__',\n",
       " '__class_getitem__',\n",
       " '__contains__',\n",
       " '__delattr__',\n",
       " '__delitem__',\n",
       " '__dir__',\n",
       " '__doc__',\n",
       " '__eq__',\n",
       " '__format__',\n",
       " '__ge__',\n",
       " '__getattribute__',\n",
       " '__getitem__',\n",
       " '__getstate__',\n",
       " '__gt__',\n",
       " '__hash__',\n",
       " '__iadd__',\n",
       " '__imul__',\n",
       " '__init__',\n",
       " '__init_subclass__',\n",
       " '__iter__',\n",
       " '__le__',\n",
       " '__len__',\n",
       " '__lt__',\n",
       " '__mul__',\n",
       " '__ne__',\n",
       " '__new__',\n",
       " '__reduce__',\n",
       " '__reduce_ex__',\n",
       " '__repr__',\n",
       " '__reversed__',\n",
       " '__rmul__',\n",
       " '__setattr__',\n",
       " '__setitem__',\n",
       " '__sizeof__',\n",
       " '__str__',\n",
       " '__subclasshook__',\n",
       " 'append',\n",
       " 'clear',\n",
       " 'copy',\n",
       " 'count',\n",
       " 'extend',\n",
       " 'index',\n",
       " 'insert',\n",
       " 'pop',\n",
       " 'remove',\n",
       " 'reverse',\n",
       " 'sort']"
      ]
     },
     "execution_count": 69,
     "metadata": {},
     "output_type": "execute_result"
    }
   ],
   "source": [
    "dir(tempList)"
   ]
  },
  {
   "cell_type": "code",
   "execution_count": 75,
   "id": "f584ab58-c188-4daf-8adc-a055cf6a1aa2",
   "metadata": {},
   "outputs": [
    {
     "data": {
      "text/plain": [
       "'hasan'"
      ]
     },
     "execution_count": 75,
     "metadata": {},
     "output_type": "execute_result"
    }
   ],
   "source": [
    "tempList.pop(1)"
   ]
  },
  {
   "cell_type": "code",
   "execution_count": 77,
   "id": "59046414-3851-4068-aebb-0e6bea3e576f",
   "metadata": {},
   "outputs": [
    {
     "data": {
      "text/plain": [
       "[23, 'Ali', 'Tehran']"
      ]
     },
     "execution_count": 77,
     "metadata": {},
     "output_type": "execute_result"
    }
   ],
   "source": [
    "tempList"
   ]
  },
  {
   "cell_type": "code",
   "execution_count": 73,
   "id": "0931bed6-0d88-4619-8322-c10f45324763",
   "metadata": {},
   "outputs": [
    {
     "data": {
      "text/plain": [
       "[21, 25, 32, 35]"
      ]
     },
     "execution_count": 73,
     "metadata": {},
     "output_type": "execute_result"
    }
   ],
   "source": [
    "ages = [32,25,35,21]\n",
    "ages.sort()\n",
    "ages"
   ]
  },
  {
   "cell_type": "code",
   "execution_count": null,
   "id": "a0cf8bc0-1868-4410-80b7-b973659b91f9",
   "metadata": {},
   "outputs": [],
   "source": [
    "## Nesting"
   ]
  },
  {
   "cell_type": "code",
   "execution_count": 84,
   "id": "43da1854-747d-4f94-8933-09eff359e9d9",
   "metadata": {},
   "outputs": [
    {
     "data": {
      "text/plain": [
       "[4, 5, 6]"
      ]
     },
     "execution_count": 84,
     "metadata": {},
     "output_type": "execute_result"
    }
   ],
   "source": [
    "nestedArray = [[1,2,3],[4,5,6],[7,8,9]]\n",
    "nestedArray[1]"
   ]
  },
  {
   "cell_type": "code",
   "execution_count": 86,
   "id": "0d29badb-982f-4b34-8056-e6df934105a1",
   "metadata": {},
   "outputs": [
    {
     "data": {
      "text/plain": [
       "[1, 2, 3]"
      ]
     },
     "execution_count": 86,
     "metadata": {},
     "output_type": "execute_result"
    }
   ],
   "source": [
    "nestedArray[0]"
   ]
  },
  {
   "cell_type": "code",
   "execution_count": 88,
   "id": "285617de-de62-448e-b6f8-f038ab99ca5a",
   "metadata": {},
   "outputs": [
    {
     "data": {
      "text/plain": [
       "6"
      ]
     },
     "execution_count": 88,
     "metadata": {},
     "output_type": "execute_result"
    }
   ],
   "source": [
    "nestedArray[1][2]"
   ]
  },
  {
   "cell_type": "markdown",
   "id": "23bf81da-2b6b-4e05-a869-7d400fc3f848",
   "metadata": {},
   "source": [
    "## Q. Print courses that I passed in the decending order"
   ]
  },
  {
   "cell_type": "code",
   "execution_count": 90,
   "id": "f64c71a6-50da-4d67-b9a6-0a3d4ee05d7e",
   "metadata": {},
   "outputs": [],
   "source": [
    "myScores=[20,13,11,17,15]\n",
    "myCourses=[\"Math\",\"History\",\"Chemistery\",\"Physics\",\"AP\"]"
   ]
  },
  {
   "cell_type": "code",
   "execution_count": 121,
   "id": "c69b5d97-937c-41b5-92ca-5f063d788a31",
   "metadata": {},
   "outputs": [
    {
     "ename": "NameError",
     "evalue": "name 'j' is not defined",
     "output_type": "error",
     "traceback": [
      "\u001b[1;31m---------------------------------------------------------------------------\u001b[0m",
      "\u001b[1;31mNameError\u001b[0m                                 Traceback (most recent call last)",
      "Cell \u001b[1;32mIn[121], line 1\u001b[0m\n\u001b[1;32m----> 1\u001b[0m \u001b[38;5;28;01mfor\u001b[39;00m i \u001b[38;5;129;01min\u001b[39;00m (myCourses) \u001b[38;5;129;01mand\u001b[39;00m j \u001b[38;5;129;01min\u001b[39;00m (myScores):\n\u001b[0;32m      2\u001b[0m     \u001b[38;5;28mprint\u001b[39m (\u001b[38;5;28mstr\u001b[39m(i)\u001b[38;5;241m+\u001b[39m\u001b[38;5;124m\"\u001b[39m\u001b[38;5;124m=\u001b[39m\u001b[38;5;124m\"\u001b[39m\u001b[38;5;241m+\u001b[39m\u001b[38;5;28mstr\u001b[39m(j))\n",
      "\u001b[1;31mNameError\u001b[0m: name 'j' is not defined"
     ]
    }
   ],
   "source": [
    "for i in (myCourses) and (myScores):\n",
    "    print (str(i)+\"=\"+str(m))"
   ]
  },
  {
   "cell_type": "markdown",
   "id": "f86a9b06-8114-4938-a0af-66c9b8d97035",
   "metadata": {},
   "source": [
    "## H.w"
   ]
  },
  {
   "cell_type": "markdown",
   "id": "04b23dd8-80ef-4160-b628-16cc82dd5f66",
   "metadata": {},
   "source": [
    "### Write a dictionary about your friends name, last name, age, Id and write who is the older one and write the average of ages"
   ]
  },
  {
   "cell_type": "code",
   "execution_count": 31,
   "id": "9a1fdce2-6aff-4f29-9ba3-4918045a7b88",
   "metadata": {},
   "outputs": [
    {
     "name": "stdout",
     "output_type": "stream",
     "text": [
      "[{'first name': 'Parsa', 'last name': 'Molie', 'age': 19, 'id': 0}, {'first name': 'Diba', 'last name': 'Fazlekhoda', 'age': 20, 'id': 1}]\n",
      "[{'first name': 'Artin', 'last name': 'Ebrahimi', 'age': 21, 'id': 2}]\n"
     ]
    }
   ],
   "source": [
    "dict={}\n",
    "dict[\"friends\"] = [{\"first name\": \"Parsa\", \"last name\": \"Molie\", \"age\":19, \"id\":0,},\n",
    "                           {\"first name\": \"Diba\", \"last name\": \"Fazlekhoda\", \"age\":20, \"id\":1}]\n",
    "print(dict[\"friends\"])\n",
    "dict[\"friends\"] = [{\"first name\": \"Artin\", \"last name\": \"Ebrahimi\", \"age\":21, \"id\":2}]\n",
    "print(dict[\"friends\"])"
   ]
  },
  {
   "cell_type": "code",
   "execution_count": 33,
   "id": "8d92fdc6-ddb7-4bbd-b2c2-48aaf5f3b572",
   "metadata": {},
   "outputs": [
    {
     "name": "stdout",
     "output_type": "stream",
     "text": [
      "This is my oldest friend: Artin Ebrahimi\n",
      "This is the average of my friends age: 21\n"
     ]
    }
   ],
   "source": [
    "ages=[]\n",
    "for i in range(len(dict[\"friends\"])): \n",
    "    ages.append(dict[\"friends\"][i][\"age\"]) \n",
    "print(\"This is my oldest friend:\", dict[\"friends\"][ages.index(max(ages))][\"first name\"], dict[\"friends\"][ages.index(max(ages))][\"last name\"]) \n",
    "average = 0 \n",
    "for age in ages: \n",
    "    average += age \n",
    "print(\"This is the average of my friends age:\", average//len(ages))"
   ]
  },
  {
   "cell_type": "markdown",
   "id": "b299cc86-fff4-4838-8355-5635e8875d1b",
   "metadata": {},
   "source": [
    "# Session 12"
   ]
  },
  {
   "cell_type": "markdown",
   "id": "76c8580a-ba2e-47be-8df2-aed36f81cf60",
   "metadata": {},
   "source": [
    "## Files"
   ]
  },
  {
   "cell_type": "code",
   "execution_count": 43,
   "id": "c9a71caa-b402-4b7c-8ef5-05436735b792",
   "metadata": {},
   "outputs": [
    {
     "name": "stdout",
     "output_type": "stream",
     "text": [
      "<_io.TextIOWrapper name='dict.txt' mode='w' encoding='cp1252'>\n"
     ]
    }
   ],
   "source": [
    "\n",
    "tempFile = open('dict.txt','w')\n",
    "tempFile.write(str(dict))\n",
    "tempFile.close()\n",
    "print(tempFile)"
   ]
  },
  {
   "cell_type": "code",
   "execution_count": 53,
   "id": "1e11af9b-2e6a-4689-b5e9-9f485b43f0ea",
   "metadata": {},
   "outputs": [
    {
     "name": "stdout",
     "output_type": "stream",
     "text": [
      "{'name': {'firstName': 'Amirhoshang', 'lastName': 'Hoseinpour Dehkordi'}, 'age': 34, 'cities': ['Tehran', 'Boston', 'Shahrekord'], 'farhadFriends': {'bestFriend': {'firstName': 'Philip', 'lastName': 'Fry', 'age': 35, 'id': 0}, 'lastButNotLeastFriend': {'firstName': 'Bender', 'lastName': 'Bending Rodr guez', 'age': 4, 'id': 1}, 0: {'firstName': 'Bender1', 'lastName': 'Bending Rodr guez', 'age': 4, 'id': 1}, 1: {'firstName': 'Bender2', 'lastName': 'Bending Rodr guez', 'age': 4, 'id': 1}, 2: {'firstName': 'Bender3', 'lastName': 'Bending Rodr guez', 'age': 4, 'id': 1}}, 'friends': [{'firstName': 'Philip', 'lastName': 'Fry', 'age': 35, 'id': 0}, {'firstName': 'Bender', 'lastName': 'Bending Rodr guez', 'age': 4, 'id': 1}, {'firstName': 'Amy', 'lastName': 'Wong', 'age': 30, 'id': 2}]}\n"
     ]
    }
   ],
   "source": [
    "amirFile = open(\"amirProfile.txt\",'r')\n",
    "amirProfile = amirFile.read()\n",
    "amirFile.close()\n",
    "print(amirProfile)"
   ]
  },
  {
   "cell_type": "code",
   "execution_count": null,
   "id": "cd56472e-4a0d-400f-abeb-3b015ad0a132",
   "metadata": {},
   "outputs": [],
   "source": []
  }
 ],
 "metadata": {
  "kernelspec": {
   "display_name": "Python 3 (ipykernel)",
   "language": "python",
   "name": "python3"
  },
  "language_info": {
   "codemirror_mode": {
    "name": "ipython",
    "version": 3
   },
   "file_extension": ".py",
   "mimetype": "text/x-python",
   "name": "python",
   "nbconvert_exporter": "python",
   "pygments_lexer": "ipython3",
   "version": "3.12.4"
  }
 },
 "nbformat": 4,
 "nbformat_minor": 5
}
